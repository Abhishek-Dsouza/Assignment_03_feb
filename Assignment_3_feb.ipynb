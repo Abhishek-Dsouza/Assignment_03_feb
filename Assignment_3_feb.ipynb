{
 "cells": [
  {
   "cell_type": "markdown",
   "id": "f0fc31cb-fe6f-496a-b53e-fbf58277b808",
   "metadata": {},
   "source": [
    "# Assignment 03 February"
   ]
  },
  {
   "cell_type": "markdown",
   "id": "1b8054e9-cc05-4adc-9295-d8a3f6902910",
   "metadata": {},
   "source": [
    "### Question 1:- Which keyword is used to create a function? Create a function to return a list of odd numbers in the range of 1 to 25."
   ]
  },
  {
   "cell_type": "markdown",
   "id": "34db5c40-d2ac-463e-a2fa-b591442073f6",
   "metadata": {},
   "source": [
    "####  Answer:-  The def keyword is used to create a function in Python. It is followed by the name of the function and parentheses, and optionally, any parameters that the function may take. "
   ]
  },
  {
   "cell_type": "markdown",
   "id": "b6cbb6f9-0841-49ea-bb53-a60b38bf547e",
   "metadata": {},
   "source": [
    "#### Here's an example:"
   ]
  },
  {
   "cell_type": "code",
   "execution_count": null,
   "id": "ea6ac3c9-fdc2-4cb7-8f11-243ef1a622dd",
   "metadata": {},
   "outputs": [],
   "source": [
    "def my_function():"
   ]
  },
  {
   "cell_type": "markdown",
   "id": "f126ae3d-95d0-4744-840a-a6b092e9b340",
   "metadata": {},
   "source": [
    "#### Create a function to return a list of odd numbers in the range of 1 to 25."
   ]
  },
  {
   "cell_type": "code",
   "execution_count": 17,
   "id": "2ea09f4b-9ec6-4f01-afd1-6ecb44ba515e",
   "metadata": {},
   "outputs": [],
   "source": [
    "def oddnumber():\n",
    "    odd_num=[]\n",
    "    for i in range(1,26):\n",
    "        if i%2 !=0:\n",
    "            odd_num.append(i)\n",
    "    return odd_num"
   ]
  },
  {
   "cell_type": "code",
   "execution_count": 18,
   "id": "1a63d275-56ca-4539-9264-9c78c1c3b6d2",
   "metadata": {},
   "outputs": [
    {
     "data": {
      "text/plain": [
       "[1, 3, 5, 7, 9, 11, 13, 15, 17, 19, 21, 23, 25]"
      ]
     },
     "execution_count": 18,
     "metadata": {},
     "output_type": "execute_result"
    }
   ],
   "source": [
    "oddnumber()"
   ]
  },
  {
   "cell_type": "markdown",
   "id": "e33cd2a1-15ad-43e6-a06e-610840991ed1",
   "metadata": {},
   "source": [
    "### Qustion 2:- Why *args and **kwargs is used in some functions? Create a function each for *args and **kwargs to demonstrate their use."
   ]
  },
  {
   "cell_type": "markdown",
   "id": "baf99b88-0275-4274-bd11-5aff9c0452d9",
   "metadata": {},
   "source": [
    "#### Answer:- *args and **kwargs are used to pass a variable number of arguments to a function. *args allows you to pass any number of arguments as a tuple, while **kwargs allows you to pass any number of key-value pairs as a dictionary.\n",
    "\n",
    "\n",
    "\n"
   ]
  },
  {
   "cell_type": "markdown",
   "id": "921e7305-92c8-4b31-a828-6b5c9e81221a",
   "metadata": {},
   "source": [
    "#### Create a function  for *args"
   ]
  },
  {
   "cell_type": "code",
   "execution_count": null,
   "id": "50250b4a-fc02-492a-a6f0-6cc932e88e3d",
   "metadata": {},
   "outputs": [],
   "source": [
    "def sumof(*args):\n",
    "    total=0\n",
    "    for i in args:\n",
    "        total= total+i\n",
    "    return total\n"
   ]
  },
  {
   "cell_type": "code",
   "execution_count": 23,
   "id": "35c4d8e8-540a-45a1-ad4e-b989a95e851f",
   "metadata": {},
   "outputs": [
    {
     "data": {
      "text/plain": [
       "15"
      ]
     },
     "execution_count": 23,
     "metadata": {},
     "output_type": "execute_result"
    }
   ],
   "source": [
    "sumof(1,2,3,4,5)"
   ]
  },
  {
   "cell_type": "markdown",
   "id": "e20602ed-cae1-4dbc-a294-e260aec43302",
   "metadata": {},
   "source": [
    "#### Create a function  for **kwargs"
   ]
  },
  {
   "cell_type": "code",
   "execution_count": 28,
   "id": "b842dfac-3b5b-4de3-84a2-8205233fcc82",
   "metadata": {},
   "outputs": [],
   "source": [
    "def kw(**kwargs):\n",
    "    return kwargs"
   ]
  },
  {
   "cell_type": "code",
   "execution_count": 27,
   "id": "21d55213-2efe-4185-9fb0-11040d59b507",
   "metadata": {},
   "outputs": [
    {
     "data": {
      "text/plain": [
       "{'Name': ['Abhishek', 'Anam', 'Sidhart'], 'Marks': [45, 31, 42]}"
      ]
     },
     "execution_count": 27,
     "metadata": {},
     "output_type": "execute_result"
    }
   ],
   "source": [
    "kw(Name=[\"Abhishek\",\"Anam\",\"Sidhart\"],Marks=[45,31,42])"
   ]
  },
  {
   "cell_type": "markdown",
   "id": "f649d9e5-a784-4ba8-b510-31a99a8a3786",
   "metadata": {},
   "source": [
    "### Question 3:- What is an iterator in python? Name the method used to initialise the iterator object and the method used for iteration. Use these methods to print the first five elements of the given list [2, 4, 6, 8, 10, 12, 14,16, 18, 20]."
   ]
  },
  {
   "cell_type": "markdown",
   "id": "dbea5ab3-d44b-4f86-a26f-557555c395b0",
   "metadata": {},
   "source": [
    "#### Answer:- an iterator is an object that represents a stream of data. It is used to iterate over a sequence of values, one at a time. The main purpose of an iterator is to provide a way to access elements of a container (such as a list or a dictionary) in a sequential manner, without having to know the underlying implementation of the container."
   ]
  },
  {
   "cell_type": "markdown",
   "id": "f4f0fa36-13ce-45fa-9236-99e1835b8129",
   "metadata": {},
   "source": [
    "#### To initialize an iterator object in Python, you need to call the iter() method on an iterable object, such as a list or a string. The iter() method returns an iterator object that you can use to iterate over the values in the iterable.\n",
    "\n"
   ]
  },
  {
   "cell_type": "markdown",
   "id": "c06a2dac-1011-420c-9efa-074aef9d2511",
   "metadata": {},
   "source": [
    "#### The iter() function takes one argument, which is the iterable object that you want to create an iterator for. To iterate over the values of an iterator object, you can use the next() method. The next() method returns the next value in the sequence, and raises the StopIteration exception when there are no more values to return."
   ]
  },
  {
   "cell_type": "markdown",
   "id": "ac6c5e69-d5f5-40e1-9ac6-7ba7a1722dee",
   "metadata": {},
   "source": [
    "#### Alternatively, you can also use a for loop to iterate over the values of an iterator object. The for loop automatically calls the next() method on the iterator object and stops when the StopIteration exception is raised."
   ]
  },
  {
   "cell_type": "markdown",
   "id": "0ca58f4f-635b-400d-a93b-e744bb078cd0",
   "metadata": {},
   "source": [
    "#### For Example:-"
   ]
  },
  {
   "cell_type": "code",
   "execution_count": 29,
   "id": "cf1b5113-bbe0-4ada-bd1b-b45ed91f08df",
   "metadata": {},
   "outputs": [
    {
     "name": "stdout",
     "output_type": "stream",
     "text": [
      "1\n",
      "2\n",
      "3\n",
      "4\n",
      "5\n"
     ]
    }
   ],
   "source": [
    "my_list = [1, 2, 3, 4, 5]\n",
    "my_iterator = iter(my_list)\n",
    "for value in my_iterator:\n",
    "    print(value)\n"
   ]
  },
  {
   "cell_type": "markdown",
   "id": "60ba2952-b8f4-48a6-a09a-5760b3c83991",
   "metadata": {},
   "source": [
    "#### print the first five elements of the given list [2, 4, 6, 8, 10, 12, 14,16, 18, 20]."
   ]
  },
  {
   "cell_type": "code",
   "execution_count": 38,
   "id": "44ff7941-7396-45b4-98e1-378baeb29ed5",
   "metadata": {},
   "outputs": [
    {
     "name": "stdout",
     "output_type": "stream",
     "text": [
      "2\n",
      "4\n",
      "6\n",
      "8\n",
      "10\n"
     ]
    }
   ],
   "source": [
    "l=[2, 4, 6, 8, 10, 12, 14,16, 18, 20]\n",
    "\n",
    "for i in range(5):\n",
    "    print(l[i])\n",
    "\n",
    "    "
   ]
  },
  {
   "cell_type": "markdown",
   "id": "03ea492d-db7c-4253-87dc-ec50a5f7d66c",
   "metadata": {},
   "source": [
    "### Question 4:- What is a generator function in python? Why yield keyword is used? Give an example of a generator function."
   ]
  },
  {
   "cell_type": "markdown",
   "id": "5840e67c-de73-45eb-8bad-03208cd74f12",
   "metadata": {},
   "source": [
    "#### Answer:-  a generator function is a special type of function that generates a sequence of values on-the-fly, rather than returning them all at once. It allows you to create iterators without having to implement a class that implements the iterator protocol. Instead, you define a function that uses the \"yield\" keyword to return each value one at a time, as the caller requests it.\n",
    "#### The \"yield\" keyword is used in a generator function to indicate that the function should return a value, but not terminate. When the generator function is called, it creates a generator object that can be used to iterate through the sequence of values generated by the function. Each time the generator object is iterated, the function runs until it hits a \"yield\" statement, at which point it returns the value and pauses until the next iteration.\n",
    "\n",
    "#### Example of a generator function that generates the Fibonacci sequence:"
   ]
  },
  {
   "cell_type": "code",
   "execution_count": 42,
   "id": "3e0ff74d-4adb-4778-b4af-143e16bc7bd0",
   "metadata": {},
   "outputs": [],
   "source": [
    "def fibonacci():\n",
    "    a, b = 0, 1\n",
    "    while True:\n",
    "        yield a\n",
    "        a, b = b, a + b\n"
   ]
  },
  {
   "cell_type": "code",
   "execution_count": 49,
   "id": "49cf4c66-acfd-4e28-852f-f5a4881d4c2c",
   "metadata": {},
   "outputs": [
    {
     "data": {
      "text/plain": [
       "<generator object fibonacci at 0x7fa724101460>"
      ]
     },
     "execution_count": 49,
     "metadata": {},
     "output_type": "execute_result"
    }
   ],
   "source": [
    "fibonacci()"
   ]
  },
  {
   "cell_type": "markdown",
   "id": "b840f76d-7ccc-4578-9c19-27b1f2e13f32",
   "metadata": {},
   "source": [
    "### Question 5:-Create a generator function for prime numbers less than 1000. Use the next() method to print the first 20 prime numbers."
   ]
  },
  {
   "cell_type": "markdown",
   "id": "f0e45e5d-d476-4e82-98b7-31459df28043",
   "metadata": {},
   "source": [
    "#### Answer:-"
   ]
  },
  {
   "cell_type": "code",
   "execution_count": 53,
   "id": "30ee5ef5-edb9-416d-8d70-9e012df67a41",
   "metadata": {},
   "outputs": [
    {
     "name": "stdout",
     "output_type": "stream",
     "text": [
      "2\n",
      "3\n",
      "5\n",
      "7\n",
      "11\n",
      "13\n",
      "17\n",
      "19\n",
      "23\n",
      "29\n",
      "31\n",
      "37\n",
      "41\n",
      "43\n",
      "47\n",
      "53\n",
      "59\n",
      "61\n",
      "67\n",
      "71\n"
     ]
    }
   ],
   "source": [
    "def generate_primes():\n",
    "    primes = []\n",
    "    num = 2\n",
    "    while num < 1000:\n",
    "        is_prime = True\n",
    "        for prime in primes:\n",
    "            if num % prime == 0:\n",
    "                is_prime = False\n",
    "                break\n",
    "        if is_prime:\n",
    "            primes.append(num)\n",
    "            yield num\n",
    "        num = num+ 1\n",
    "\n",
    "prime_generator = generate_primes()\n",
    "for i in range(20):\n",
    "    print(next(prime_generator))\n"
   ]
  },
  {
   "cell_type": "markdown",
   "id": "1473a1a4-fe40-4961-a4fe-b69924598731",
   "metadata": {},
   "source": [
    "### Question 6:- Write a python program to print the first 10 Fibonacci numbers using a while loop."
   ]
  },
  {
   "cell_type": "markdown",
   "id": "bda73154-775d-4980-b0f9-6d4bb3d927e1",
   "metadata": {},
   "source": [
    "#### Answer:-"
   ]
  },
  {
   "cell_type": "code",
   "execution_count": 83,
   "id": "f1b06465-e60f-45e6-8509-f22b01e2fa5e",
   "metadata": {},
   "outputs": [
    {
     "name": "stdout",
     "output_type": "stream",
     "text": [
      "first 10 Fibonacci numbers:\n",
      "0\n",
      "1\n",
      "1\n",
      "2\n",
      "3\n",
      "5\n",
      "8\n",
      "13\n",
      "21\n",
      "34\n",
      "55\n"
     ]
    }
   ],
   "source": [
    "    num=11\n",
    "    a=0\n",
    "    b=1\n",
    "    counter=0\n",
    "    print(\"first 10 Fibonacci numbers:\")\n",
    "    while counter < num:\n",
    "        print(a)\n",
    "        c=a+b\n",
    "        a=b\n",
    "        b=c\n",
    "        counter=counter+1\n",
    "        "
   ]
  },
  {
   "cell_type": "markdown",
   "id": "60a7fa50-e6c7-4838-92eb-0f4b6d940f0f",
   "metadata": {},
   "source": [
    "### Question 7:- Write a List Comprehension to iterate through the given string: ‘pwskills’.\n",
    "### Expected output: ['p', 'w', 's', 'k', 'i', 'l', 'l', 's']"
   ]
  },
  {
   "cell_type": "markdown",
   "id": "17d44155-322c-4b4f-81df-4b0dc0093d78",
   "metadata": {},
   "source": [
    "#### Answer:-"
   ]
  },
  {
   "cell_type": "code",
   "execution_count": 91,
   "id": "4b43d647-ec8e-473e-b514-6ff2f28723b8",
   "metadata": {},
   "outputs": [
    {
     "data": {
      "text/plain": [
       "['p', 'w', 's', 'k', 'i', 'l', 'l', 's']"
      ]
     },
     "execution_count": 91,
     "metadata": {},
     "output_type": "execute_result"
    }
   ],
   "source": [
    "string = \"pwskills\"\n",
    "output=[]\n",
    "for i in string:\n",
    "    output.append(str(i))\n",
    "output"
   ]
  },
  {
   "cell_type": "code",
   "execution_count": 92,
   "id": "f7e26fc8-1a71-478c-96b2-b48ecb1b8946",
   "metadata": {},
   "outputs": [
    {
     "name": "stdout",
     "output_type": "stream",
     "text": [
      "['p', 'w', 's', 'k', 'i', 'l', 's']\n"
     ]
    }
   ],
   "source": [
    "string = \"pwskills\"\n",
    "result = [char for i, char in enumerate(string) if char != \"l\" or i == string.index(char)]\n",
    "print(result)"
   ]
  },
  {
   "cell_type": "markdown",
   "id": "5155e209-d1e8-442a-8db1-24567e6b1370",
   "metadata": {},
   "source": [
    "### Question 8:- Write a python program to check whether a given number is Palindrome or not using a while loop."
   ]
  },
  {
   "cell_type": "markdown",
   "id": "83a58bcb-8a10-4ed1-bd8e-ee0d571b58ae",
   "metadata": {},
   "source": [
    "#### Answer:-"
   ]
  },
  {
   "cell_type": "code",
   "execution_count": 95,
   "id": "2b329ae6-855e-4fe8-854f-8ad75e582b85",
   "metadata": {},
   "outputs": [
    {
     "name": "stdin",
     "output_type": "stream",
     "text": [
      "Enter a number:  1221\n"
     ]
    },
    {
     "name": "stdout",
     "output_type": "stream",
     "text": [
      "1221 is a palindrome number\n"
     ]
    }
   ],
   "source": [
    "num = int(input(\"Enter a number: \"))\n",
    "temp = num\n",
    "rev = 0\n",
    "\n",
    "while temp > 0:\n",
    "    digit = temp % 10\n",
    "    rev = rev * 10 + digit\n",
    "    temp //= 10\n",
    "\n",
    "if num == rev:\n",
    "    print(num, \"is a palindrome number\")\n",
    "else:\n",
    "    print(num, \"is not a palindrome number\")\n"
   ]
  },
  {
   "cell_type": "markdown",
   "id": "6d700241-8868-4351-a1b1-0d858dfe7bed",
   "metadata": {},
   "source": [
    "### Question 9 :- Q9. Write a code to print odd numbers from 1 to 100 using list comprehension.\n",
    "### Note: Use a list comprehension to create a list from 1 to 100 and use another List comprehension to filter out odd numbers."
   ]
  },
  {
   "cell_type": "markdown",
   "id": "5e549288-8e7a-43ac-8ca5-8bcd27a8d5c4",
   "metadata": {},
   "source": [
    "#### Answer:-"
   ]
  },
  {
   "cell_type": "code",
   "execution_count": 97,
   "id": "dbf71baf-b103-44e0-86bf-6476b9d9f966",
   "metadata": {},
   "outputs": [
    {
     "name": "stdout",
     "output_type": "stream",
     "text": [
      "[1, 3, 5, 7, 9, 11, 13, 15, 17, 19, 21, 23, 25, 27, 29, 31, 33, 35, 37, 39, 41, 43, 45, 47, 49, 51, 53, 55, 57, 59, 61, 63, 65, 67, 69, 71, 73, 75, 77, 79, 81, 83, 85, 87, 89, 91, 93, 95, 97, 99]\n"
     ]
    }
   ],
   "source": [
    "odd_numbers = [num for num in range(1, 101) if num % 2 != 0]\n",
    "print(odd_numbers)\n"
   ]
  },
  {
   "cell_type": "code",
   "execution_count": null,
   "id": "d685fd21-09f4-4ad8-a141-ff0bbba30460",
   "metadata": {},
   "outputs": [],
   "source": []
  }
 ],
 "metadata": {
  "kernelspec": {
   "display_name": "Python 3 (ipykernel)",
   "language": "python",
   "name": "python3"
  },
  "language_info": {
   "codemirror_mode": {
    "name": "ipython",
    "version": 3
   },
   "file_extension": ".py",
   "mimetype": "text/x-python",
   "name": "python",
   "nbconvert_exporter": "python",
   "pygments_lexer": "ipython3",
   "version": "3.10.8"
  }
 },
 "nbformat": 4,
 "nbformat_minor": 5
}
